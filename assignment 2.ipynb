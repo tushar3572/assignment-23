{
 "cells": [
  {
   "cell_type": "code",
   "execution_count": null,
   "id": "96c15217-38a7-4a7f-a3e8-a1471ae2575c",
   "metadata": {},
   "outputs": [],
   "source": [
    "    #Answer : 1\n",
    "    \n",
    "Probability mass function denotes the probability that a discrete random variable will take on a particular value. \n",
    "Probability density function gives the probability that a continuous random variable will lie between a certain specified interval. It is used for discrete random variables.    "
   ]
  },
  {
   "cell_type": "code",
   "execution_count": null,
   "id": "8f1c7378-aedd-480d-8994-83d96027e349",
   "metadata": {},
   "outputs": [],
   "source": [
    "    #Answer : 2\n",
    "    \n",
    "The Cumulative Distribution Function (CDF), of a real-valued random variable X, evaluated at x, is the probability function that X will take a value less than or equal to x.\n",
    "It is used to describe the probability distribution of random variables in a table.    "
   ]
  },
  {
   "cell_type": "code",
   "execution_count": null,
   "id": "5d45e95d-cc89-424f-ac76-d26f774ef166",
   "metadata": {},
   "outputs": [],
   "source": [
    "    #Answer : 3\n",
    "    \n",
    "Heights of individuals: Human heights often follow a normal distribution, with most people clustered around the mean height, and fewer people at the extreme ends.\n",
    "\n",
    "Test scores: Scores on standardized tests, like IQ tests or SAT scores, tend to be normally distributed, with the majority of test-takers near the mean score.\n",
    "\n",
    "Measurement errors: In scientific experiments and measurements, measurement errors are often assumed to be normally distributed.\n",
    "\n",
    "Economic data: Stock prices, income levels, and other economic variables often exhibit a roughly normal distribution.\n",
    "\n",
    "Natural phenomena: Many natural phenomena, such as the distribution of particle speeds in a gas, the errors in scientific measurements, and more, can be approximated by a normal distribution.    "
   ]
  },
  {
   "cell_type": "code",
   "execution_count": null,
   "id": "2e9ba565-4eab-4b10-bea1-bed39bc1e41b",
   "metadata": {},
   "outputs": [],
   "source": [
    "     #Answer : 4\n",
    "    \n",
    "One reason the normal distribution is important is that many psychological and educational variables are distributed approximately normally. Measures of reading ability, introversion, job satisfaction, \n",
    "and memory are among the many psychological variables approximately normally distributed.    "
   ]
  },
  {
   "cell_type": "code",
   "execution_count": null,
   "id": "181f7ab9-182a-4f2c-a874-219fdac0a5b1",
   "metadata": {},
   "outputs": [],
   "source": [
    "    #Answer : 5\n",
    "    \n",
    "Bernoulli deals with the outcome of the single trial of the event, whereas Binomial deals with the outcome of the multiple trials of the single event.\n",
    "Bernoulli is used when the outcome of an event is required for only one time, whereas the Binomial is used when the outcome of an event is required multiple times.    "
   ]
  },
  {
   "cell_type": "code",
   "execution_count": null,
   "id": "e89727d9-2882-44e0-b471-667c27b47f2a",
   "metadata": {},
   "outputs": [],
   "source": [
    "    #Answer : 6\n",
    "    \n",
    "we can use the Z-score formula and the standard normal distribution table (or calculator).\n",
    "\n",
    "The formula for finding the Z-score is:\n",
    "\n",
    "�\n",
    "=\n",
    "�\n",
    "−\n",
    "�\n",
    "�\n",
    "Z= \n",
    "σ\n",
    "X−μ\n",
    "​\n",
    " \n",
    "\n",
    "Where:\n",
    "\n",
    "�\n",
    "X is the value we want to find the probability for (in this case, 60).\n",
    "�\n",
    "μ is the mean of the dataset (50).\n",
    "�\n",
    "σ is the standard deviation of the dataset (10).\n",
    "Plugging in the values:\n",
    "\n",
    "�\n",
    "=\n",
    "60\n",
    "−\n",
    "50\n",
    "10\n",
    "=\n",
    "1\n",
    "Z= \n",
    "10\n",
    "60−50\n",
    "​\n",
    " =1\n",
    "\n",
    "Now, we can find the probability that a Z-score is greater than 1 using the standard normal distribution table or calculator. This probability is equivalent to finding the area under the standard normal curve to the right of Z = 1.\n",
    "\n",
    "You can look up this probability in a standard normal distribution table, or you can use a calculator or software. Using a calculator, you can find:\n",
    "\n",
    "�\n",
    "(\n",
    "�\n",
    ">\n",
    "1\n",
    ")\n",
    "≈\n",
    "0.1587\n",
    "P(Z>1)≈0.1587\n",
    "\n",
    "So, the probability that a randomly selected observation from this normally distributed dataset will be greater than 60 is approximately 0.1587, or 15.87%.    "
   ]
  },
  {
   "cell_type": "code",
   "execution_count": null,
   "id": "f7b3de8e-fccf-4852-b566-210cb43418d3",
   "metadata": {},
   "outputs": [],
   "source": [
    "    #Answer : 7\n",
    "    \n",
    "Uniform distribution refers to a type of probability distribution in which all outcomes are equally likely.\n",
    "A deck of cards has within it uniform distributions because the likelihood of drawing a heart, a club, a diamond, or a spade is equally likely.    "
   ]
  },
  {
   "cell_type": "code",
   "execution_count": null,
   "id": "40125918-5832-4a94-96b6-aeb5944d4070",
   "metadata": {},
   "outputs": [],
   "source": [
    "    #Answer : 8\n",
    "    \n",
    "A Z-Score is a statistical measurement of a score's relationship to the mean in a group of scores.\n",
    "A Z-score can reveal to a trader if a value is typical for a specified data set or if it is atypical. \n",
    "In general, a Z-score of -3.0 to 3.0 suggests that a stock is trading within three standard deviations of its mean.    "
   ]
  },
  {
   "cell_type": "code",
   "execution_count": null,
   "id": "008fa823-2f23-4582-8ef8-0910a4667ae1",
   "metadata": {},
   "outputs": [],
   "source": [
    "    #Ansewer : 9\n",
    "    \n",
    "The central limit theorem (CLT) states that the distribution of sample means approximates a normal distribution as the sample size gets larger, regardless of the population's distribution. \n",
    "Sample sizes equal to or greater than 30 are often considered sufficient for the CLT to hold.    "
   ]
  },
  {
   "cell_type": "code",
   "execution_count": null,
   "id": "c493f05c-ab4b-4c3f-bb07-3000b795e00d",
   "metadata": {},
   "outputs": [],
   "source": [
    "    #Answer : 10\n",
    "    \n",
    "The data must adhere to the randomization rule.    "
   ]
  }
 ],
 "metadata": {
  "kernelspec": {
   "display_name": "Python 3 (ipykernel)",
   "language": "python",
   "name": "python3"
  },
  "language_info": {
   "codemirror_mode": {
    "name": "ipython",
    "version": 3
   },
   "file_extension": ".py",
   "mimetype": "text/x-python",
   "name": "python",
   "nbconvert_exporter": "python",
   "pygments_lexer": "ipython3",
   "version": "3.10.8"
  }
 },
 "nbformat": 4,
 "nbformat_minor": 5
}
